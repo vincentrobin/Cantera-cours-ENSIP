{
 "cells": [
  {
   "cell_type": "markdown",
   "metadata": {},
   "source": [
    "# CANTERA MANIPULATION : 1\n",
    "required librairies import"
   ]
  },
  {
   "cell_type": "code",
   "execution_count": 12,
   "metadata": {},
   "outputs": [],
   "source": [
    "%matplotlib notebook\n",
    "import cantera as ct\n",
    "import numpy as np\n",
    "import matplotlib.pyplot as plt"
   ]
  },
  {
   "cell_type": "markdown",
   "metadata": {},
   "source": [
    "## gas manipulation\n",
    "gri30 is the mechanism file : and you can found a copy in \"cantara/data\" directory. You can use anyother mechanism file by uploading it on the server."
   ]
  },
  {
   "cell_type": "code",
   "execution_count": 2,
   "metadata": {},
   "outputs": [],
   "source": [
    "# When using Cantera, the first thing you usually need is an object representing some phase of matter.\n",
    "# Here, we'll create a gas mixture:\n",
    "gas1 = ct.Solution('gri30.cti')\n",
    "# To view the state of the mixture, *call* the `gas1` object as if it were a function:\n",
    "gas1()"
   ]
  },
  {
   "cell_type": "code",
   "execution_count": 3,
   "metadata": {},
   "outputs": [],
   "source": [
    "# to get temperature\n",
    "gas1.T"
   ]
  },
  {
   "cell_type": "code",
   "execution_count": 4,
   "metadata": {},
   "outputs": [],
   "source": [
    "# to get enthalpie\n",
    "gas1.h"
   ]
  },
  {
   "cell_type": "code",
   "execution_count": 5,
   "metadata": {},
   "outputs": [],
   "source": [
    "# to change the state\n",
    "gas1.TP = 500, 101325\n",
    "gas1()"
   ]
  },
  {
   "cell_type": "code",
   "execution_count": 6,
   "metadata": {},
   "outputs": [],
   "source": [
    "#The composition can be set in terms of either mole fractions (X) or mass fractions (Y):\n",
    "gas1.X = 'CH4:1, O2:2, N2:7.52'\n",
    "gas1()"
   ]
  },
  {
   "cell_type": "markdown",
   "metadata": {},
   "source": [
    "## Chemical Equilibrium\n",
    "The chemical represents the burnt gas state (more precision will be given in a following courses)"
   ]
  },
  {
   "cell_type": "code",
   "execution_count": 7,
   "metadata": {},
   "outputs": [],
   "source": [
    "# the enthalpie of the system and pressure is considered constant --> the temperature increases.\n",
    "gas1.equilibrate('HP')\n",
    "gas1()"
   ]
  },
  {
   "cell_type": "code",
   "execution_count": 11,
   "metadata": {},
   "outputs": [],
   "source": [
    "# As this last command generates many species (all the sepcies present in the chemcial file).\n",
    "# It is possible to force the program to work only with a few set of species:\n",
    "#major = ['CH4','O2','CO2','H2O','N2']\n",
    "#gas2 = ct.Solution(thermo='IdealGas', species=major)\n",
    "majorspeciesname = {S.name: S for S in ct.Species.listFromFile('gri30.cti')}\n",
    "majorspecies = [majorspeciesname[S] for S in ('CH4','O2','N2','CO2','H2O')]\n",
    "gas1 = ct.Solution(thermo='IdealGas', species=majorspecies)\n",
    "gas1.TPX = 500, 101325,'CH4:1, O2:2, N2:7.52'\n",
    "gas1.equilibrate('HP')\n",
    "#gas1()"
   ]
  },
  {
   "cell_type": "code",
   "execution_count": null,
   "metadata": {},
   "outputs": [],
   "source": []
  }
 ],
 "metadata": {
  "kernelspec": {
   "display_name": "Python 3",
   "language": "python",
   "name": "python3"
  },
  "language_info": {
   "codemirror_mode": {
    "name": "ipython",
    "version": 3
   },
   "file_extension": ".py",
   "mimetype": "text/x-python",
   "name": "python",
   "nbconvert_exporter": "python",
   "pygments_lexer": "ipython3",
   "version": "3.7.9"
  }
 },
 "nbformat": 4,
 "nbformat_minor": 1
}
