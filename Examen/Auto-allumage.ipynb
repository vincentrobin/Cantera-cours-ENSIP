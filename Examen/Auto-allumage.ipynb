{
 "cells": [
  {
   "cell_type": "code",
   "execution_count": null,
   "metadata": {},
   "outputs": [],
   "source": [
    "\"\"\"\n",
    "Constant-pressure, adiabatic kinetics simulation.\n",
    "Requires: cantera >= 2.5.0, matplotlib >= 2.0\n",
    "\"\"\"\n",
    "%matplotlib notebook\n",
    "import sys\n",
    "import cantera as ct\n",
    "import matplotlib.pyplot as plt\n",
    "\n",
    "gas = ct.Solution('gri30.cti')\n",
    "gas.TPX = 1001.0, ct.one_atm, 'H2:2,O2:1,N2:4'\n",
    "r = ct.IdealGasConstPressureReactor(gas)\n",
    "\n",
    "sim = ct.ReactorNet([r])\n",
    "sim.verbose = True\n",
    "\n",
    "dt_max = 1.e-5\n",
    "t_end = 100 * dt_max\n",
    "states = ct.SolutionArray(gas, extra=['t'])\n",
    "XH2=[]\n",
    "print('{:10s} {:10s} {:10s} {:14s}'.format(\n",
    "    't [s]', 'T [K]', 'P [Pa]', 'u [J/kg]'))\n",
    "while sim.time < t_end:\n",
    "    sim.advance(sim.time + dt_max)\n",
    "    states.append(r.thermo.state, t=sim.time*1e3)\n",
    "    print('{:10.3e} {:10.3f} {:10.3f} {:14.6f}'.format(\n",
    "            sim.time, r.T, r.thermo.P, r.thermo.u))\n",
    "    XH2.append(r.thermo['H2'].X)\n"
   ]
  },
  {
   "cell_type": "code",
   "execution_count": null,
   "metadata": {},
   "outputs": [],
   "source": [
    "plt.plot(states.t, states.T)\n",
    "plt.grid(True)\n",
    "plt.xlabel('Time (ms)')\n",
    "plt.ylabel('Temperature (K)')\n",
    "plt.show()"
   ]
  },
  {
   "cell_type": "code",
   "execution_count": null,
   "metadata": {},
   "outputs": [],
   "source": [
    "plt.plot(states.t, XH2)\n",
    "plt.grid(True)\n",
    "plt.xlabel('Time (ms)')\n",
    "plt.ylabel('Molar fraction H2')\n",
    "plt.show()\n",
    "\n"
   ]
  },
  {
   "cell_type": "code",
   "execution_count": null,
   "metadata": {},
   "outputs": [],
   "source": []
  }
 ],
 "metadata": {
  "kernelspec": {
   "display_name": "Python 3",
   "language": "python",
   "name": "python3"
  },
  "language_info": {
   "codemirror_mode": {
    "name": "ipython",
    "version": 3
   },
   "file_extension": ".py",
   "mimetype": "text/x-python",
   "name": "python",
   "nbconvert_exporter": "python",
   "pygments_lexer": "ipython3",
   "version": "3.7.9"
  }
 },
 "nbformat": 4,
 "nbformat_minor": 4
}
