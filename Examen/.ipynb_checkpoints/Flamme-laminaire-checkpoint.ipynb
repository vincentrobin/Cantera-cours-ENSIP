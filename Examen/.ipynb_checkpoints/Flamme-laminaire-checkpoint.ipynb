{
 "cells": [
  {
   "cell_type": "markdown",
   "metadata": {},
   "source": [
    "# Flame Speed with Sensitivity Analysis"
   ]
  },
  {
   "cell_type": "markdown",
   "metadata": {},
   "source": [
    "In this example we simulate a freely-propagating, adiabatic, 1-D flame and\n",
    "* Calculate its laminar burning velocity\n",
    "* Perform a sensitivity analysis of its kinetics\n",
    "\n",
    "The figure below illustrates the setup, in a flame-fixed co-ordinate system. The reactants enter with density $\\rho_{u}$, temperature $T_{u}$ and speed $S_{u}$. The products exit the flame at speed $S_{b}$, density $\\rho_{b}$ and temperature $T_{b}$."
   ]
  },
  {
   "cell_type": "markdown",
   "metadata": {},
   "source": [
    "<img src=\"images/flameSpeed.png\" alt=\"Freely Propagating Flame\" style=\"width: 300px;\"/>"
   ]
  },
  {
   "cell_type": "markdown",
   "metadata": {},
   "source": [
    "### Import Modules"
   ]
  },
  {
   "cell_type": "code",
   "execution_count": null,
   "metadata": {},
   "outputs": [],
   "source": [
    "from __future__ import print_function\n",
    "from __future__ import division\n",
    "\n",
    "import cantera as ct\n",
    "import numpy as np\n",
    "\n",
    "print(\"Running Cantera Version: \" + str(ct.__version__))"
   ]
  },
  {
   "cell_type": "code",
   "execution_count": null,
   "metadata": {},
   "outputs": [],
   "source": [
    "# Import plotting modules and define plotting preference\n",
    "%matplotlib notebook\n",
    "import matplotlib.pylab as plt\n",
    "\n",
    "plt.rcParams['axes.labelsize'] = 14\n",
    "plt.rcParams['xtick.labelsize'] = 12\n",
    "plt.rcParams['ytick.labelsize'] = 12\n",
    "plt.rcParams['legend.fontsize'] = 10\n",
    "plt.rcParams['figure.figsize'] = (8,6)\n",
    "\n",
    "# Get the best of both ggplot and seaborn\n",
    "plt.style.use('ggplot')\n",
    "plt.style.use('seaborn-deep')\n",
    "\n",
    "plt.rcParams['figure.autolayout'] = True\n",
    "\n",
    "# Import Pandas for DataFrames\n",
    "import pandas as pd"
   ]
  },
  {
   "cell_type": "markdown",
   "metadata": {},
   "source": [
    "### Define the reactant conditions, gas mixture and kinetic mechanism associated with the gas"
   ]
  },
  {
   "cell_type": "code",
   "execution_count": null,
   "metadata": {},
   "outputs": [],
   "source": [
    "#Inlet Temperature in Kelvin and Inlet Pressure in Pascals\n",
    "#In this case we are setting the inlet T and P to room temperature conditions\n",
    "To = 300\n",
    "Po = 101325\n",
    "\n",
    "#Define the gas-mixutre and kinetics\n",
    "#In this case, we are choosing a GRI3.0 gas\n",
    "gas = ct.Solution('gri30.cti')\n",
    "\n",
    "# Create a stoichiometric CH4/Air premixed mixture \n",
    "gas.set_equivalence_ratio(1.0, 'CH4', {'O2':1.0, 'N2':3.76})\n",
    "gas.TP = To, Po"
   ]
  },
  {
   "cell_type": "markdown",
   "metadata": {},
   "source": [
    "### Define flame simulation conditions"
   ]
  },
  {
   "cell_type": "code",
   "execution_count": null,
   "metadata": {},
   "outputs": [],
   "source": [
    "# Domain width in metres\n",
    "width = 0.014\n",
    "\n",
    "# Create the flame object\n",
    "flame = ct.FreeFlame(gas, width=width)\n",
    "\n",
    "# Define tolerances for the solver\n",
    "flame.set_refine_criteria(ratio=3, slope=0.1, curve=0.1)\n",
    "\n",
    "# Define logging level\n",
    "loglevel = 1"
   ]
  },
  {
   "cell_type": "markdown",
   "metadata": {},
   "source": [
    "### Solve"
   ]
  },
  {
   "cell_type": "code",
   "execution_count": null,
   "metadata": {},
   "outputs": [],
   "source": [
    "flame.solve(loglevel=loglevel, auto=True)\n",
    "Su0 = flame.velocity[0]\n",
    "print(\"Flame Speed is: {:.2f} cm/s\".format(Su0*100))\n",
    "\n",
    "# Note that the variable Su0 will also be used downsteam in the sensitivity analysis"
   ]
  },
  {
   "cell_type": "markdown",
   "metadata": {},
   "source": [
    "### Plot figures\n",
    "\n",
    "Check and see if all has gone well. Plot temperature and species fractions to see\n",
    "\n",
    "#### Temperature Plot"
   ]
  },
  {
   "cell_type": "code",
   "execution_count": null,
   "metadata": {},
   "outputs": [],
   "source": [
    "plt.figure()\n",
    "\n",
    "plt.plot(flame.grid*100, flame.T, '-o')\n",
    "plt.xlabel('Distance (cm)')\n",
    "plt.ylabel('Temperature (K)');"
   ]
  },
  {
   "cell_type": "markdown",
   "metadata": {},
   "source": [
    "#### Major species' plot"
   ]
  },
  {
   "cell_type": "markdown",
   "metadata": {},
   "source": [
    "To plot species, we first have to identify the index of the species in the array\n",
    "For this, cut & paste the following lines and run in a new cell to get the index\n",
    "\n",
    "    for i, specie in enumerate(gas.species()):\n",
    "        print(str(i) + '. ' + str(specie))"
   ]
  },
  {
   "cell_type": "code",
   "execution_count": null,
   "metadata": {},
   "outputs": [],
   "source": [
    "# Extract concentration data\n",
    "X_CH4 = flame.X[13]\n",
    "X_CO2 = flame.X[15]\n",
    "X_H2O = flame.X[5]\n",
    "\n",
    "plt.figure()\n",
    "\n",
    "plt.plot(flame.grid*100, X_CH4, '-o', label=r'$CH_{4}$')\n",
    "plt.plot(flame.grid*100, X_CO2, '-s', label=r'$CO_{2}$')\n",
    "plt.plot(flame.grid*100, X_H2O, '-<', label=r'$H_{2}O$')\n",
    "\n",
    "plt.legend(loc=2)\n",
    "plt.xlabel('Distance (cm)')\n",
    "plt.ylabel('MoleFractions');"
   ]
  },
  {
   "cell_type": "code",
   "execution_count": null,
   "metadata": {},
   "outputs": [],
   "source": []
  }
 ],
 "metadata": {
  "kernelspec": {
   "display_name": "Python 3",
   "language": "python",
   "name": "python3"
  },
  "language_info": {
   "codemirror_mode": {
    "name": "ipython",
    "version": 3
   },
   "file_extension": ".py",
   "mimetype": "text/x-python",
   "name": "python",
   "nbconvert_exporter": "python",
   "pygments_lexer": "ipython3",
   "version": "3.7.9"
  }
 },
 "nbformat": 4,
 "nbformat_minor": 1
}
