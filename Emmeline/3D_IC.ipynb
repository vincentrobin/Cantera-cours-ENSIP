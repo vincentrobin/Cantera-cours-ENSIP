{
 "cells": [
  {
   "cell_type": "markdown",
   "metadata": {},
   "source": [
    "# Created on 12/2020\n",
    "\n",
    "@author : V. Robin\n",
    "\n",
    "GENERATION OF INITIAL CONDITION TO OBTAIN\n",
    "A 3D intial condition from a isoline equation\n",
    "\n",
    "Preliminary 0D computations with Cantera have been\n",
    "performed by Said Taileib to obtain the ignition delay time\n",
    "as function of temperature : tau=f(Tu).\n",
    "The coefficient A and B of the linearized profile\n",
    "Log(tau)=f(1/T) must be known before running this program.\n",
    "\n",
    "This program do:\n",
    "    - from the desired propagation speed of the\n",
    "    ignition front, the profile Tu(x) is determined\n",
    "    - for all x-point, i.e. all fresh temperature,\n",
    "    a 0D computation is performed to obtain Tu(x,t)\n",
    "    - The retained profile for IC of resident corresponds\n",
    "    to a certain time t=ti0D\n",
    "    - This profile is filled on the resident grid (density and Y1 values) by setting a specific isovalue on a line in the domain. This line can be seen as a level set function."
   ]
  },
  {
   "cell_type": "code",
   "execution_count": 1,
   "metadata": {},
   "outputs": [],
   "source": [
    "#Import of the libraries and functions used in this script\n",
    "import math\n",
    "import shapely.geometry as geom\n",
    "from shapely.geometry import LineString, Point, Polygon\n",
    "from shapely.ops import linemerge, unary_union, polygonize\n",
    "import matplotlib.pyplot as plt\n",
    "from matplotlib import rc\n",
    "import cantera as ct\n",
    "import numpy as np\n",
    "import os\n",
    "\n",
    "# functions definition\n",
    "def cut_polygon_by_line(polygon, line):\n",
    "    merged = linemerge([polygon.boundary, line])\n",
    "    borders = unary_union(merged)\n",
    "    polygons = polygonize(borders)\n",
    "    return list(polygons)\n",
    "\n",
    "def column(matrix, i): #creation of a function to read a row in a matrix and write it to a vector\n",
    "    return [row[i] for row in matrix]"
   ]
  },
  {
   "cell_type": "code",
   "execution_count": 2,
   "metadata": {},
   "outputs": [
    {
     "name": "stdout",
     "output_type": "stream",
     "text": [
      "The number of points is 3001 x 101 x 101 = 30613201\n",
      "The number of cells is 3000 x 100 x 100 = 30000000\n"
     ]
    }
   ],
   "source": [
    "#####################################\n",
    "# Resident Domain and grid definition\n",
    "#####################################\n",
    "lx=0.3   # length x direction\n",
    "#ly= 0.08  # length y direction\n",
    "ly= 0.01  # length y direction\n",
    "lz= ly  # length y direction\n",
    "#\n",
    "nx= 1e-4 # cell syze x direction\n",
    "ny=nx    # cell syze y direction\n",
    "nz=ny    # cell syze y direction\n",
    "#\n",
    "eps=0.000000001\n",
    "nl_x=int(lx/nx+eps)   #number of cells in x\n",
    "nq_x=nl_x+1           #number of points in x\n",
    "nl_y=int(ly/ny+eps)   #number of cells in y\n",
    "nq_y=int(nl_y)+1      #number of points in y\n",
    "nl_z=int(lz/nz+eps)   #number of cells in z\n",
    "nq_z=int(nl_z)+1      #number of points in z\n",
    "#\n",
    "print(\"The number of points is\" , nq_x,'x',nq_y,'x',nq_z,'=',nq_x*nq_y*nq_z)\n",
    "print(\"The number of cells is\" , nl_x,'x',nl_y,'x',nl_z,'=',nl_x*nl_y*nl_z)"
   ]
  },
  {
   "cell_type": "code",
   "execution_count": 3,
   "metadata": {},
   "outputs": [
    {
     "name": "stdout",
     "output_type": "stream",
     "text": [
      "u = 40\n"
     ]
    }
   ],
   "source": [
    "################################\n",
    "# Initial condition parameters\n",
    "###############################\n",
    "U = 40              # propagation speed of the ignition front desired\n",
    "c= 1e-5             # ignition delay time of the most reactive mixture (of the initial state)\n",
    "#\n",
    "#########################################\n",
    "# Chemistry parameters and gas properties\n",
    "# From preliminary 0D cantera calculation\n",
    "# Log(Tau)=f(1/T)\n",
    "#########################################\n",
    "#B=21547.968                    # Alka's value\n",
    "#A=5.79243E-12                  # Alka's value\n",
    "B=8028.414                      # Said's value\n",
    "A=3.86582E-9                    # Said's value\n",
    "Pressure=16.46*1.01325e5        # initial pressure\n",
    "comp = 'H2:2.0,O2:1.0,N2:3.76'  # fresh gas composition\n",
    "gas = ct.Solution('H2_Global-Said.cti') # Said global step chemistry\n",
    "timestepadim=1/1000             # timestep adimentionned by ignition delay\n",
    "n=int(10/timestepadim)          # number of time iteration\n",
    "defaulttimestep=c*timestepadim  # cantera timestep based on the ignition delay of the most reactive mixture\n",
    "nxc=nx                          # cantera x step : the best is equal to nx\n",
    "print('u =', U)"
   ]
  },
  {
   "cell_type": "code",
   "execution_count": 4,
   "metadata": {},
   "outputs": [
    {
     "name": "stdout",
     "output_type": "stream",
     "text": [
      "Cantera length, corresponding points and cells 0.3604 3604 3603\n",
      "Temperature range for cantera 1021.6650343114005 547.5472722933587\n",
      "Position range 0.0 0.3603\n",
      "Range of ignition delay time 1e-05 0.0090175\n"
     ]
    }
   ],
   "source": [
    "##################################################\n",
    "# Cantera computation to define the fresh gas profile\n",
    "##################################################\n",
    "# Maximum length : it corresponds to the cantera computation length\n",
    "# Not easy to define, it depends of the shape and position of the flame\n",
    "# : too lagre and calculation is very long\n",
    "# : too short and the profile is cut on the resident grid \n",
    "#\n",
    "coeflength=1.2\n",
    "length=math.sqrt(lx ** 2 + ly ** 2 + lz ** 2)*coeflength # choice max length of the domain mutiply by a coefficient\n",
    "# number of cells and points in the cantera domain\n",
    "nl=int(length/nxc+eps)\n",
    "nq=int(nl)+1\n",
    "\n",
    "length=nq*nxc\n",
    "timestep=np.zeros(nq) # variable timestep\n",
    "Tu=np.zeros(nq)       # initial temperature - calculated from cantera 0D curve fit\n",
    "tau=np.zeros(nq)      # ignition delay time array (calculated from cantera 0D curve fit)\n",
    "x1=np.zeros(nq)       # coordinates\n",
    "# Loop to define the initial profil of fresh gas temperature leading to the right propagation speed.\n",
    "# This is based on the Zeldovitch gradient (ignition delay gradient).\n",
    "for i in range(nq):\n",
    "    xx=i*nxc\n",
    "    x1[i]=(i)*nxc  # x (m)\n",
    "    Tu[i]=B/(math.log((((xx/U)+c)/A))) # Fresh gas temperature\n",
    "    tau[i]=(xx/U)+c # ignition delay time\n",
    "    # to use variable time step : calculation stop at n*tau[i]*timestepadim\n",
    "    timestep[i]=((xx/U)+c)*timestepadim\n",
    "    # to use constant time step : calculation stop at ti0D\n",
    "    #timestep[i]=ti0D/n\n",
    "    \n",
    "print(\"Cantera length, corresponding points and cells\" ,length, nq, nl)\n",
    "print(\"Temperature range for cantera\" ,Tu[0],Tu[nq-1])\n",
    "print(\"Position range\" ,x1[0],x1[nq-1])\n",
    "print(\"Range of ignition delay time\" ,tau[0], tau[nq-1])"
   ]
  },
  {
   "cell_type": "code",
   "execution_count": 5,
   "metadata": {},
   "outputs": [
    {
     "name": "stdout",
     "output_type": "stream",
     "text": [
      "End Cantera loop\n"
     ]
    }
   ],
   "source": [
    "################################################\n",
    "# Cantera computations for all fresh temperatures\n",
    "################################################\n",
    "# Cantera loop for reactor solving with time (runned until it reaches the n*timestepadim i.e. 10 x ignition time)\n",
    "# Declaration of the results matrix using the divison of the domain set and the maximum number of iterations to reach the max temperature\n",
    "resu = np.zeros((nq,n))  # temperature results\n",
    "resu1 = np.zeros((nq,n)) # Y results (gas composition) absolute value\n",
    "resu2 = np.zeros((nq,n)) # Normalized Y\n",
    "resu3 = np.zeros((nq,n)) # Normalized Y\n",
    "times = np.zeros((nq,n))\n",
    "for i in range(nq):          # loop on each position of the 1D profile\n",
    "    time = 0.0               \n",
    "    Temperature=Tu[i]        # fresh gas temperature\n",
    "    Tempdata=[]              \n",
    "    Ydata=[]\n",
    "    rhodata=[]\n",
    "    gas.TPX = Temperature, Pressure, comp          # gas definition\n",
    "    r = ct.IdealGasConstPressureReactor(gas)       # reactor definition\n",
    "    sim = ct.ReactorNet([r])                       # network reactor definition\n",
    "    Tempdata.append(Temperature)                   # Recording of first temperature value\n",
    "    Ydata.append(r.Y)\n",
    "    rhodata.append(r.density)\n",
    "    for j in range(n-1):       # Cantera time loop\n",
    "        time+=timestep[i]\n",
    "        sim.advance(time)\n",
    "        Tempdata.append(r.T)\n",
    "        Ydata.append(r.Y)\n",
    "        rhodata.append(r.density)\n",
    "    resu[i,:]=Tempdata            # Temperature stored\n",
    "    resu1[i,:]=column(Ydata, 0)   # First species stored\n",
    "    resu3[i,:]=rhodata            # rho stored\n",
    "    for j in range(n):\n",
    "        times[i,j]= j*timestep[i]                                      # times stored\n",
    "        resu2[i,j]=(resu1[i,j]-resu1[i,n-1])/(resu1[i,0]-resu1[i,n-1]) # Normalized value of the first species stored\n",
    "        \n",
    "print('End Cantera loop')"
   ]
  },
  {
   "cell_type": "code",
   "execution_count": 6,
   "metadata": {},
   "outputs": [
    {
     "name": "stdout",
     "output_type": "stream",
     "text": [
      "fresh Temperature most reactive :  1021.6650343114005\n",
      "fresh Temperature less reactive :  547.5472722933587\n"
     ]
    },
    {
     "data": {
      "image/png": "[encoded data removed]",
      "text/plain": [
       "<Figure size 640x480 with 1 Axes>"
      ]
     },
     "metadata": {},
     "output_type": "display_data"
    }
   ],
   "source": [
    "################################################\n",
    "# Plot of cantera results : Two time profile\n",
    "# corresponding to the extreme position in the 1D profile\n",
    "# i.e. the most and less reactive mixture\n",
    "################################################\n",
    "plt.style.use('classic')\n",
    "rc('font',**{'family':'DejaVu Sans','serif':['Computer Modern Roman']})\n",
    "rc('text', usetex=True)\n",
    "rc('xtick', labelsize=12)\n",
    "rc('ytick', labelsize=12)\n",
    "rc('axes', labelsize=12)\n",
    "print('fresh Temperature most reactive : ', resu[0,0])\n",
    "print('fresh Temperature less reactive : ', resu[nq-1,0])\n",
    "plt.plot(times[0,:],resu[0,:])\n",
    "plt.plot(times[nq-1,:],resu[nq-1,:]) \n",
    "plt.xlim(0, 0.00002)\n",
    "#plt.legend()\n",
    "plt.show()"
   ]
  },
  {
   "cell_type": "code",
   "execution_count": 7,
   "metadata": {},
   "outputs": [
    {
     "name": "stdout",
     "output_type": "stream",
     "text": [
      "Cantera time used as initial condition:  0.001\n"
     ]
    }
   ],
   "source": [
    "################################################\n",
    "# Selection of the gas state corresponding to time ti0D\n",
    "# for the whole points of the 1D profile\n",
    "################################################\n",
    "kit=np.zeros((nq),int)      # position of ti0D in arrays (necessary for variable time step)\n",
    "ti0D=100*c                 # cantera time used to obtain partially burnt gas in the cantera domain.\n",
    "                            # It must be higher than c (ignition time of the most reactive) to have burnt gas\n",
    "T = np.zeros(nq)\n",
    "T0 = np.zeros(nq)\n",
    "Tb = np.zeros(nq)\n",
    "Y1 = np.zeros(nq)\n",
    "rho = np.zeros(nq)\n",
    "rho0 = np.zeros(nq)\n",
    "rhob = np.zeros(nq)\n",
    "for i in range(nq):\n",
    "    kit[i]=int(ti0D/timestep[i]) # position of the time ti0D in arrays\n",
    "    T0[i]=resu[i, 0]\n",
    "    rho0[i]=resu3[i, 0]\n",
    "    Tb[i]=resu[i, n-1]\n",
    "    rhob[i]=resu3[i, n-1]\n",
    "    if (kit[i]<n):\n",
    "        T[i]=resu[i, kit[i]]\n",
    "        Y1[i]=resu2[i,kit[i]]\n",
    "        rho[i]=resu3[i,kit[i]]\n",
    "    else:\n",
    "        T[i]=resu[i,n-1]\n",
    "        Y1[i]=resu2[i,n-1]\n",
    "        rho[i]=resu3[i,n-1]\n",
    "print('Cantera time used as initial condition: ', ti0D)"
   ]
  },
  {
   "cell_type": "code",
   "execution_count": 8,
   "metadata": {},
   "outputs": [
    {
     "data": {
      "image/png": "[encoded data removed]",
      "text/plain": [
       "<Figure size 640x480 with 1 Axes>"
      ]
     },
     "metadata": {},
     "output_type": "display_data"
    },
    {
     "data": {
      "image/png": "[encoded data removed]",
      "text/plain": [
       "<Figure size 640x480 with 1 Axes>"
      ]
     },
     "metadata": {},
     "output_type": "display_data"
    },
    {
     "data": {
      "image/png": "[encoded data removed]",
      "text/plain": [
       "<Figure size 640x480 with 1 Axes>"
      ]
     },
     "metadata": {},
     "output_type": "display_data"
    }
   ],
   "source": [
    "################################################\n",
    "# PLot 1D profile corresponding to fully fresg gas,\n",
    "# fully burnt gas and gas state att ti0D\n",
    "################################################\n",
    "plt.style.use('classic')\n",
    "rc('font',**{'family':'DejaVu Sans','serif':['Computer Modern Roman']})\n",
    "rc('text', usetex=True)\n",
    "rc('xtick', labelsize=12)\n",
    "rc('ytick', labelsize=12)\n",
    "rc('axes', labelsize=12)\n",
    "trace=1\n",
    "if (trace==1):\n",
    "    plt.plot(x1,T,label=' partially burnt gas' ) \n",
    "    plt.plot(x1,T0,label='pure fresh gas' ) \n",
    "    plt.plot(x1,Tb,label='pure burnt gas' ) \n",
    "    plt.xlabel('x (m)',fontsize=15)\n",
    "    plt.ylabel('T(K)',fontsize=15)\n",
    "    plt.legend()\n",
    "    plt.show()\n",
    "   #\n",
    "    plt.plot(x1,Y1,label='fresh gas')\n",
    "    plt.xlabel('x (m)')\n",
    "    plt.ylabel('Y1')\n",
    "    plt.legend()\n",
    "    plt.show()\n",
    "\n",
    "    plt.plot(x1,rho,label='partially burnt gas')\n",
    "    plt.plot(x1,rho0,label='pure fresh gas')\n",
    "    plt.plot(x1,rhob,label='pure burnt gas')\n",
    "    plt.xlabel('x (m)')\n",
    "    plt.ylabel('rho')\n",
    "    plt.legend()\n",
    "    plt.show()"
   ]
  },
  {
   "cell_type": "code",
   "execution_count": 9,
   "metadata": {},
   "outputs": [
    {
     "name": "stdout",
     "output_type": "stream",
     "text": [
      "Total number of point in the 1D profile : 3604\n",
      "Point position in array : 253 corresponding to the nearest value of Y= 0.5\n",
      "Y and x value at this point : 0.4134884857561266 0.0253\n"
     ]
    }
   ],
   "source": [
    "################################################\n",
    "# Find the x position in 1D profile corresponding to\n",
    "# a certain value of Y. This result is used to set the\n",
    "# position of the 1D profile in the 2D resident domain\n",
    "################################################\n",
    "Yvalue=0.5\n",
    "idx = (np.abs(Y1-Yvalue)).argmin()\n",
    "flame_pos=x1[idx]\n",
    "print('Total number of point in the 1D profile :', nq)\n",
    "print('Point position in array :', idx ,'corresponding to the nearest value of Y=', Yvalue)\n",
    "print('Y and x value at this point :', Y1[idx],x1[idx])"
   ]
  },
  {
   "cell_type": "code",
   "execution_count": 10,
   "metadata": {},
   "outputs": [
    {
     "data": {
      "image/png": "[encoded data removed]",
      "text/plain": [
       "<Figure size 720x40 with 1 Axes>"
      ]
     },
     "metadata": {},
     "output_type": "display_data"
    }
   ],
   "source": [
    "################################################\n",
    "# DEFINTION DE LA POSITION DE LA FLAMME IN 2D RESIDENT\n",
    "# CAS D'UNE DROITE D'ANGLE THETA\n",
    "################################################\n",
    "# On créé d'abord une isoligne sur une partie du domaine \n",
    "# (des symetries seront réalisées pour compléter le domaine)\n",
    "# L'isoligne représente la \"flamme\" qui  sépare les gaz frais des gaz brulés\n",
    "#\n",
    "# Point de départ de l'isoligne\n",
    "xini=0.0 \n",
    "#yini=ly/2.0\n",
    "yini=0.0\n",
    "theta = 85   # angle (degrees) of the front with respect to the vertical axis\n",
    "points_of_isoligne = []\n",
    "#\n",
    "# pour avoir une structure dont la forme est maintenu, il faut mettre les points extérieurs 0) et 2).\n",
    "# pour avoir une vitesse constante du front, il faut supprimer les points extérieurs 0) et 2).\n",
    "shape_maintained = 1 \n",
    "#\n",
    "if (theta>eps):\n",
    "    if (shape_maintained==1):\n",
    "        # 0) extérieur du domaine : on rajoute des points à l'extérieur du domaine si besoin  : POUR X<XINI x=0\n",
    "        points_of_isoligne.append((0,0))\n",
    "    #\n",
    "    # 1) on boucle sur toutes les positions y correspondants aux points du maillage.\n",
    "    #for j in range(int(nl_y)+1):\n",
    "    for j in range(int(nl_y/2)+1):\n",
    "        y_isoline = yini+j*ny # coordonnées y\n",
    "        # coordonnées x de la forme désirée (ici une droite d'angle theta)\n",
    "        x_isoline = xini + (yini+y_isoline)*math.tan(math.radians(theta))\n",
    "        # création du tableau de coordonées des points\n",
    "        points_of_isoligne.append((x_isoline,y_isoline))\n",
    "        #print(j, x_isoline,y_isoline)\n",
    "    #\n",
    "    if (shape_maintained==1):\n",
    "        # 2) extérieur du domaine : on rajoute des points à l'extérieur du domaine si besoin : POUR X>XMAXI x=lx\n",
    "        # ici on prend un point loin : le max de coordonnées x pour prolonger la droite\n",
    "        points_of_isoligne.append((lx,-yini+(lx-xini)/math.tan(math.radians(theta))))\n",
    "    #points_of_isoligne.append((x_isoline,ly))\n",
    "    #\n",
    "else:\n",
    "    points_of_isoligne.append((xini,0))\n",
    "    points_of_isoligne.append((xini,ly))    \n",
    "#\n",
    "#\n",
    "# création des objets géométriques\n",
    "isoline = LineString(points_of_isoligne) # on créé une ligne avec ces points\n",
    "demidomaine = Polygon([(0, 0), (0, ly), (lx, ly), (lx, 0)]) # polygone du domaine\n",
    "domaine_parts = cut_polygon_by_line(demidomaine, isoline) # découpage du polygone en deux\n",
    "if (theta>eps):\n",
    "    domaine_bunrt = domaine_parts[0] # Création d'un polygone représentant les gaz brulés\n",
    "else:\n",
    "    domaine_bunrt = domaine_parts[1] # Création d'un polygone représentant les gaz brulés    \n",
    "#\n",
    "#plt.plot(demidomaine)\n",
    "xbunrt,ybunrt = domaine_bunrt.exterior.xy\n",
    "xfull,yfull = demidomaine.exterior.xy\n",
    "plt.figure(figsize=(30*lx,100*ly/2))\n",
    "plt.plot(xbunrt,ybunrt)\n",
    "plt.plot(xfull,yfull)\n",
    "plt.show()"
   ]
  },
  {
   "cell_type": "code",
   "execution_count": 11,
   "metadata": {},
   "outputs": [
    {
     "name": "stdout",
     "output_type": "stream",
     "text": [
      "End filling loop\n"
     ]
    }
   ],
   "source": [
    "################################################\n",
    "# REMPLISSAGE DES TABLEAUX DE CONDITION INITIALE\n",
    "# on remplie seulement la moitié du domaine en y\n",
    "# des symétries sont utilisées ensuite lors\n",
    "# de l'écriture dans les fichiers\n",
    "################################################\n",
    "#CI_rho = np.zeros((nl_x,int(nl_y/2)))\n",
    "CI_rho = np.zeros(shape=(nl_x,nl_y,nl_z))\n",
    "CI_Y   = np.zeros(shape=(nl_x,nl_y,nl_z))\n",
    "gmax=nq\n",
    "for k in range(nl_z):\n",
    "    for j in range(nl_y):\n",
    "        for i in range(nl_x):\n",
    "            # changme,t de repere : cylindrique\n",
    "            x=nx/2+i*nx # x centre des cellules\n",
    "            y=math.sqrt( (ny/2+j*ny-ly/2)**2 + (nz/2+k*nz-lz/2)**2 ) # y centre des cellules\n",
    "            \n",
    "            localpoint = Point(x,y) # création d'un point correspondant au centre de la cellule\n",
    "            # point le plus près sur l'isoligne de la flamme\n",
    "            #nearest_point_on_isoline = isoline.interpolate(isoline.project(localpoint))\n",
    "            # distance entre le point de la flamme et le centre de la cellule\n",
    "            dist = localpoint.distance(isoline)\n",
    "            # distance négative dans les gaz brulés\n",
    "            if (domaine_bunrt.contains(localpoint)):\n",
    "                dist = - dist\n",
    "\n",
    "            #z=(x*math.cos ( math.radians ( theta ) )+ y*math.sin ( math.radians ( theta ) ))\n",
    "            z=dist+flame_pos\n",
    "            g=int(z/(nxc))\n",
    "            # valeur de rho et Y1 sur la cellule par interpolation du profil cantera\n",
    "            if (g < 0):\n",
    "                CI_rho[i,j,k]=rho[0]\n",
    "                CI_Y[i,j,k]=Y1[0]\n",
    "            elif (g > gmax-2):\n",
    "                CI_rho[i,j,k]=rho[gmax-1]\n",
    "                CI_Y[i,j,k]=Y1[gmax-1]\n",
    "            else:\n",
    "                CI_rho[i,j,k]=(rho[g]+(((rho[g+1]-rho[g])/(x1[g+1]-x1[g])*(z-x1[g]))))\n",
    "                CI_Y[i,j,k]=(Y1[g]+(((Y1[g+1]-Y1[g])/(x1[g+1]-x1[g])*(z-x1[g]))))\n",
    "print('End filling loop')"
   ]
  },
  {
   "cell_type": "code",
   "execution_count": 12,
   "metadata": {},
   "outputs": [
    {
     "name": "stdout",
     "output_type": "stream",
     "text": [
      "info.dat saved\n",
      "Density.dat and Y1.dat saved\n",
      "dimension to put in data.inp : \n",
      "x= 0.3\n",
      "y= 0.01\n",
      "y= 0.01\n"
     ]
    }
   ],
   "source": [
    "################################################\n",
    "# WRITTING FILES THAT ARE READ BY RESIDENT\n",
    "################################################\n",
    "#\n",
    "# Number of cells stored in a specific file\n",
    "filename = 'info.dat'\n",
    "f = open(filename,'w')\n",
    "f.write(str(nl_x)) #number of cells in x\n",
    "f.write(' ')\n",
    "f.write(str(nl_y)) #number of cells in y\n",
    "f.write(' ')\n",
    "f.write(str(nl_z))\n",
    "f.close()\n",
    "print('info.dat saved')\n",
    "#\n",
    "# Writting initial condition file for rho and Y \n",
    "filename1 = 'Density.dat'\n",
    "filename2 = 'Y1.dat'\n",
    "f1 = open(filename1,'w')\n",
    "f2 = open(filename2,'w')\n",
    "\n",
    "\n",
    "for k in range(int(nl_z)):\n",
    "    for j in range(int(nl_y)):\n",
    "        for i in range(nl_x):  \n",
    "            f1.write('%13.5e' %CI_rho[i,j,k]) #density\n",
    "            f2.write('%13.5e' %CI_Y[i,j,k]) #Y1       \n",
    "            f1.write(' ')\n",
    "            f2.write(' ')\n",
    "        f1.write('\\n')\n",
    "        f2.write('\\n')\n",
    "\n",
    "#    for j in range(int(nl_y/2)):\n",
    "#        for i in range(nl_x):  \n",
    "#            jsym=int(nl_y/2)-1-j\n",
    "#            f1.write('%13.5e' %CI_rho[i,jsym]) #density\n",
    "#            f2.write('%13.5e' %CI_Y[i,jsym]) #Y1 \n",
    "#            f1.write(' ')\n",
    "#            f2.write(' ')\n",
    "#        f1.write('\\n')\n",
    "#        f2.write('\\n')\n",
    "\n",
    "    \n",
    "f1.close()\n",
    "f2.close()\n",
    "print('Density.dat and Y1.dat saved')\n",
    "print(\"dimension to put in data.inp : \")\n",
    "print(\"x=\",nl_x*nx)\n",
    "print(\"y=\",nl_y*ny)\n",
    "print(\"y=\",nl_z*nz)"
   ]
  },
  {
   "cell_type": "code",
   "execution_count": null,
   "metadata": {},
   "outputs": [],
   "source": []
  }
 ],
 "metadata": {
  "kernelspec": {
   "display_name": "Python 3",
   "language": "python",
   "name": "python3"
  },
  "language_info": {
   "codemirror_mode": {
    "name": "ipython",
    "version": 3
   },
   "file_extension": ".py",
   "mimetype": "text/x-python",
   "name": "python",
   "nbconvert_exporter": "python",
   "pygments_lexer": "ipython3",
   "version": "3.7.9"
  }
 },
 "nbformat": 4,
 "nbformat_minor": 4
}
