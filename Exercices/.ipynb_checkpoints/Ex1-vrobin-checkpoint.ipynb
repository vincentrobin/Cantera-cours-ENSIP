{
 "cells": [
  {
   "cell_type": "markdown",
   "metadata": {},
   "source": [
    "# CANTERA MANIPULATION\n",
    "required librairies import"
   ]
  },
  {
   "cell_type": "code",
   "execution_count": null,
   "metadata": {},
   "outputs": [],
   "source": [
    "import cantera as ct\n",
    "import numpy as np\n",
    "import matplotlib.pyplot as plt"
   ]
  },
  {
   "cell_type": "markdown",
   "metadata": {},
   "source": [
    "## gas manipulation\n",
    "gri30 is the mechanism file : and you can found a copy in \"cantara/data\" directory. You can use anyother mechanism file by uploading it on the server."
   ]
  },
  {
   "cell_type": "code",
   "execution_count": null,
   "metadata": {},
   "outputs": [],
   "source": [
    "# When using Cantera, the first thing you usually need is an object representing some phase of matter.\n",
    "# Here, we'll create a gas mixture:\n",
    "gas1 = ct.Solution('gri30.yaml')\n",
    "# To view the state of the mixture, *call* the `gas1` object as if it were a function:\n",
    "gas1()"
   ]
  },
  {
   "cell_type": "code",
   "execution_count": null,
   "metadata": {},
   "outputs": [],
   "source": [
    "# to get temperature\n",
    "gas1.T"
   ]
  },
  {
   "cell_type": "code",
   "execution_count": null,
   "metadata": {},
   "outputs": [],
   "source": [
    "# to get enthalpie\n",
    "gas1.h"
   ]
  },
  {
   "cell_type": "code",
   "execution_count": null,
   "metadata": {},
   "outputs": [],
   "source": [
    "# to get the mole fraction of a species\n",
    "gas1['H2'].X"
   ]
  },
  {
   "cell_type": "code",
   "execution_count": null,
   "metadata": {},
   "outputs": [],
   "source": [
    "# to change the state\n",
    "gas1.TP = 500, 101325\n",
    "gas1()"
   ]
  },
  {
   "cell_type": "code",
   "execution_count": null,
   "metadata": {},
   "outputs": [],
   "source": [
    "#The composition can be set in terms of either mole fractions (X) or mass fractions (Y):\n",
    "gas1.X = 'CH4:1, O2:2, N2:7.52'\n",
    "gas1()"
   ]
  },
  {
   "cell_type": "code",
   "execution_count": null,
   "metadata": {},
   "outputs": [],
   "source": [
    "# The composition can be set also using the equivalence ratio function (phi=0.8 in this example):\n",
    "gas1.set_equivalence_ratio(0.8, 'CH4', 'O2:1, N2:3.76')\n",
    "gas1()"
   ]
  },
  {
   "cell_type": "markdown",
   "metadata": {},
   "source": [
    "## Chemical Equilibrium\n",
    "The chemical represents the burnt gas state"
   ]
  },
  {
   "cell_type": "code",
   "execution_count": null,
   "metadata": {},
   "outputs": [],
   "source": [
    "# the enthalpie of the system and pressure is considered constant --> the temperature increases.\n",
    "gas1.equilibrate('HP')\n",
    "gas1()"
   ]
  },
  {
   "cell_type": "code",
   "execution_count": null,
   "metadata": {},
   "outputs": [],
   "source": [
    "gas1 = ct.Solution('gri30.yaml')\n",
    "gas1.TPX = 400, 101325,'C2H6:1, O2:4.38, N2:16.46'\n",
    "#gas1.set_equivalence_ratio(0.8, 'C2H6', 'O2:1, N2:3.76')\n",
    "gas1()\n",
    "gas1.equilibrate('HP')\n",
    "gas1()"
   ]
  },
  {
   "cell_type": "code",
   "execution_count": null,
   "metadata": {},
   "outputs": [],
   "source": []
  }
 ],
 "metadata": {
  "kernelspec": {
   "display_name": "Python 3 (ipykernel)",
   "language": "python",
   "name": "python3"
  },
  "language_info": {
   "codemirror_mode": {
    "name": "ipython",
    "version": 3
   },
   "file_extension": ".py",
   "mimetype": "text/x-python",
   "name": "python",
   "nbconvert_exporter": "python",
   "pygments_lexer": "ipython3",
   "version": "3.8.18"
  }
 },
 "nbformat": 4,
 "nbformat_minor": 4
}
