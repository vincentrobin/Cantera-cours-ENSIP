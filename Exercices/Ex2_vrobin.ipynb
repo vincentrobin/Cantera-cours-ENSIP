{
 "cells": [
  {
   "cell_type": "markdown",
   "metadata": {},
   "source": [
    "# Flame Temperature\n",
    "\n",
    "This example demonstrates calculation of the adiabatic flame temperature for a methane/air mixture."
   ]
  },
  {
   "cell_type": "code",
   "execution_count": 1,
   "metadata": {},
   "outputs": [],
   "source": [
    "#%matplotlib notebook\n",
    "#%matplotlib auto\n",
    "import cantera as ct\n",
    "import numpy as np\n",
    "import matplotlib.pyplot as plt"
   ]
  },
  {
   "cell_type": "markdown",
   "metadata": {},
   "source": [
    "## Chemical reaction considered (complete combustion)\n",
    "\n",
    "The equation of a lean methane/air mixture ($\\phi < 1$ or $z > z_s$) is:\n",
    "\n",
    "$$\\mathrm{C_3H_8 + z (0.21 O_2 + 0.79 N_2) \\rightarrow CO_2 +  2 H_2O + 0.21 (z - z_s) O_2 + 0.79  z  N_2}$$\n",
    "\n",
    "For a rich mixture ($\\phi > 1$ or $z < z_s$), this becomes:\n",
    "\n",
    "$$\\mathrm{ C_3H_8 + z (0.21 O_2 + 0.79 N_2) \\rightarrow (z/z_s) CO_2 + 2 (z/z_s) H_2O + (1-z/z_s) CH_4 + 0.79  z  N_2}$$\n",
    "\n",
    "To find the flame temperature resulting from these reactions using Cantera, we create a gas object containing only the species in the above equations, and then use the `equilibrate()` function to find the resulting mixture composition and temperature, taking advantage of the fact that equilibrium will strongly favor conversion of the fuel molecule."
   ]
  },
  {
   "cell_type": "code",
   "execution_count": 2,
   "metadata": {},
   "outputs": [],
   "source": [
    "# Get all of the Species objects defined in the GRI 3.0 mechanism\n",
    "species = {S.name: S for S in ct.Species.listFromFile('gri30.cti')}\n",
    "\n",
    "# Create an IdealGas object with species rconsidered\n",
    "complete_species = [species[S] for S in ('C3H8','O2','N2','CO2','H2O')]\n",
    "gas1 = ct.Solution(thermo='IdealGas', species=complete_species)\n",
    "\n",
    "z = np.linspace(5, 40, 100)\n",
    "T_complete = np.zeros(z.shape)\n",
    "for i in range(len(z)):\n",
    "    X = {'C3H8':1.0, 'O2': 0.21*z[i], 'N2': 0.79*z[i]}\n",
    "    gas1.TPX = 300, ct.one_atm, X\n",
    "    gas1.equilibrate('HP')\n",
    "    T_complete[i] = gas1.T"
   ]
  },
  {
   "cell_type": "code",
   "execution_count": 3,
   "metadata": {},
   "outputs": [],
   "source": [
    "# Get all of the Species objects defined in the GRI 3.0 mechanism\n",
    "species = {S.name: S for S in ct.Species.listFromFile('gri30.cti')}\n",
    "\n",
    "# Create an IdealGas object with species rconsidered\n",
    "complete_species = [species[S] for S in ('C3H8','O2','N2','CO2','H2O','CO','H2')]\n",
    "gas1 = ct.Solution(thermo='IdealGas', species=complete_species)\n",
    "\n",
    "z = np.linspace(5, 40, 100)\n",
    "T_complete = np.zeros(z.shape)\n",
    "XCO2 = np.zeros(z.shape)\n",
    "XCO = np.zeros(z.shape)\n",
    "for i in range(len(z)):\n",
    "    X = {'C3H8':1.0, 'O2': 0.21*z[i], 'N2': 0.79*z[i]}\n",
    "    gas1.TPX = 300, ct.one_atm, X\n",
    "    gas1.equilibrate('HP')\n",
    "    T_complete[i] = gas1.T\n",
    "    XCO2[i] = gas1['CO2'].X\n",
    "    XCO[i] = gas1['CO'].X"
   ]
  },
  {
   "cell_type": "code",
   "execution_count": 4,
   "metadata": {},
   "outputs": [
    {
     "ename": "CanteraError",
     "evalue": "\n***********************************************************************\nCanteraError thrown by findInputFile:\n\nInput file C3H8.cti not found in directories \n'/Users/robin/Applications/anaconda3/envs/cantera-env/lib/python3.7/site-packages/cantera/data', \n'.', \n'/Applications/Cantera/data', \n'/usr/local/share/cantera/data'\n\nTo fix this problem, either:\n    a) move the missing files into the local directory;\n    b) define environment variable CANTERA_DATA to\n         point to the directory containing the file.\n***********************************************************************\n",
     "output_type": "error",
     "traceback": [
      "\u001b[0;31m---------------------------------------------------------------------------\u001b[0m",
      "\u001b[0;31mCanteraError\u001b[0m                              Traceback (most recent call last)",
      "\u001b[0;32m<ipython-input-4-79382c22909e>\u001b[0m in \u001b[0;36m<module>\u001b[0;34m\u001b[0m\n\u001b[1;32m     30\u001b[0m \u001b[0;34m\u001b[0m\u001b[0m\n\u001b[1;32m     31\u001b[0m \u001b[0;34m\u001b[0m\u001b[0m\n\u001b[0;32m---> 32\u001b[0;31m \u001b[0mgas2\u001b[0m \u001b[0;34m=\u001b[0m \u001b[0mct\u001b[0m\u001b[0;34m.\u001b[0m\u001b[0mSolution\u001b[0m\u001b[0;34m(\u001b[0m\u001b[0;34m'C3H8.cti'\u001b[0m\u001b[0;34m)\u001b[0m\u001b[0;34m\u001b[0m\u001b[0;34m\u001b[0m\u001b[0m\n\u001b[0m\u001b[1;32m     33\u001b[0m \u001b[0mTC3H8\u001b[0m \u001b[0;34m=\u001b[0m \u001b[0mnp\u001b[0m\u001b[0;34m.\u001b[0m\u001b[0mzeros\u001b[0m\u001b[0;34m(\u001b[0m\u001b[0mphi\u001b[0m\u001b[0;34m.\u001b[0m\u001b[0mshape\u001b[0m\u001b[0;34m)\u001b[0m\u001b[0;34m\u001b[0m\u001b[0;34m\u001b[0m\u001b[0m\n\u001b[1;32m     34\u001b[0m \u001b[0;32mfor\u001b[0m \u001b[0mi\u001b[0m \u001b[0;32min\u001b[0m \u001b[0mrange\u001b[0m\u001b[0;34m(\u001b[0m\u001b[0mlen\u001b[0m\u001b[0;34m(\u001b[0m\u001b[0mphi\u001b[0m\u001b[0;34m)\u001b[0m\u001b[0;34m)\u001b[0m\u001b[0;34m:\u001b[0m\u001b[0;34m\u001b[0m\u001b[0;34m\u001b[0m\u001b[0m\n",
      "\u001b[0;32minterfaces/cython/cantera/base.pyx\u001b[0m in \u001b[0;36mcantera._cantera._SolutionBase.__cinit__\u001b[0;34m()\u001b[0m\n",
      "\u001b[0;32minterfaces/cython/cantera/base.pyx\u001b[0m in \u001b[0;36mcantera._cantera._SolutionBase._init_cti_xml\u001b[0;34m()\u001b[0m\n",
      "\u001b[0;31mCanteraError\u001b[0m: \n***********************************************************************\nCanteraError thrown by findInputFile:\n\nInput file C3H8.cti not found in directories \n'/Users/robin/Applications/anaconda3/envs/cantera-env/lib/python3.7/site-packages/cantera/data', \n'.', \n'/Applications/Cantera/data', \n'/usr/local/share/cantera/data'\n\nTo fix this problem, either:\n    a) move the missing files into the local directory;\n    b) define environment variable CANTERA_DATA to\n         point to the directory containing the file.\n***********************************************************************\n"
     ]
    }
   ],
   "source": [
    "gas2 = ct.Solution('gri30.cti')\n",
    "phi = np.linspace(0.5, 2.0, 100)\n",
    "TCH4 = np.zeros(phi.shape)\n",
    "for i in range(len(phi)):\n",
    "    gas2.TP = 300, ct.one_atm\n",
    "    gas2.set_equivalence_ratio(phi[i], 'CH4', 'O2:1, N2:3.76')\n",
    "    gas2.equilibrate('HP')\n",
    "    TCH4[i] = gas2.T\n",
    "    \n",
    "TH2 = np.zeros(phi.shape)\n",
    "for i in range(len(phi)):\n",
    "    gas2.TP = 300, ct.one_atm\n",
    "    gas2.set_equivalence_ratio(phi[i], 'H2', 'O2:1, N2:3.76')\n",
    "    gas2.equilibrate('HP')\n",
    "    TH2[i] = gas2.T\n",
    "    \n",
    "TC2H6 = np.zeros(phi.shape)\n",
    "for i in range(len(phi)):\n",
    "    gas2.TP = 300, ct.one_atm\n",
    "    gas2.set_equivalence_ratio(phi[i], 'C2H6', 'O2:1, N2:3.76')\n",
    "    gas2.equilibrate('HP')\n",
    "    TC2H6[i] = gas2.T\n",
    "\n",
    "TC2H4 = np.zeros(phi.shape)\n",
    "for i in range(len(phi)):\n",
    "    gas2.TP = 300, ct.one_atm\n",
    "    gas2.set_equivalence_ratio(phi[i], 'C2H4', 'O2:1, N2:3.76')\n",
    "    gas2.equilibrate('HP')\n",
    "    TC2H4[i] = gas2.T\n",
    "\n",
    "    \n",
    "gas2 = ct.Solution('C3H8.cti')\n",
    "TC3H8 = np.zeros(phi.shape)\n",
    "for i in range(len(phi)):\n",
    "    gas2.TP = 300, ct.one_atm\n",
    "    gas2.set_equivalence_ratio(phi[i], 'C3H8', 'O2:1, N2:3.76')\n",
    "    gas2.equilibrate('HP')\n",
    "    TC3H8[i] = gas2.T\n",
    "    \n",
    "gas2 = ct.Solution('Nheptane.cti')\n",
    "TC4H10 = np.zeros(phi.shape)\n",
    "for i in range(len(phi)):\n",
    "    gas2.TP = 300, ct.one_atm\n",
    "    gas2.set_equivalence_ratio(phi[i], 'C4H10', 'O2:1, N2:3.76')\n",
    "    gas2.equilibrate('HP')\n",
    "    TC4H10[i] = gas2.T"
   ]
  },
  {
   "cell_type": "code",
   "execution_count": 5,
   "metadata": {},
   "outputs": [
    {
     "ename": "NameError",
     "evalue": "name 'TC3H8' is not defined",
     "output_type": "error",
     "traceback": [
      "\u001b[0;31m---------------------------------------------------------------------------\u001b[0m",
      "\u001b[0;31mNameError\u001b[0m                                 Traceback (most recent call last)",
      "\u001b[0;32m<ipython-input-5-5164bb4fdc2d>\u001b[0m in \u001b[0;36m<module>\u001b[0;34m\u001b[0m\n\u001b[1;32m      3\u001b[0m \u001b[0mplt\u001b[0m\u001b[0;34m.\u001b[0m\u001b[0mplot\u001b[0m\u001b[0;34m(\u001b[0m\u001b[0mphi\u001b[0m\u001b[0;34m,\u001b[0m \u001b[0mTC2H6\u001b[0m\u001b[0;34m,\u001b[0m \u001b[0mlabel\u001b[0m\u001b[0;34m=\u001b[0m\u001b[0;34m'C2H6'\u001b[0m\u001b[0;34m,\u001b[0m \u001b[0mlw\u001b[0m\u001b[0;34m=\u001b[0m\u001b[0;36m2\u001b[0m\u001b[0;34m)\u001b[0m\u001b[0;34m\u001b[0m\u001b[0;34m\u001b[0m\u001b[0m\n\u001b[1;32m      4\u001b[0m \u001b[0mplt\u001b[0m\u001b[0;34m.\u001b[0m\u001b[0mplot\u001b[0m\u001b[0;34m(\u001b[0m\u001b[0mphi\u001b[0m\u001b[0;34m,\u001b[0m \u001b[0mTC2H4\u001b[0m\u001b[0;34m,\u001b[0m \u001b[0mlabel\u001b[0m\u001b[0;34m=\u001b[0m\u001b[0;34m'C2H4'\u001b[0m\u001b[0;34m,\u001b[0m \u001b[0mlw\u001b[0m\u001b[0;34m=\u001b[0m\u001b[0;36m2\u001b[0m\u001b[0;34m)\u001b[0m\u001b[0;34m\u001b[0m\u001b[0;34m\u001b[0m\u001b[0m\n\u001b[0;32m----> 5\u001b[0;31m \u001b[0mplt\u001b[0m\u001b[0;34m.\u001b[0m\u001b[0mplot\u001b[0m\u001b[0;34m(\u001b[0m\u001b[0mphi\u001b[0m\u001b[0;34m,\u001b[0m \u001b[0mTC3H8\u001b[0m\u001b[0;34m,\u001b[0m \u001b[0mlabel\u001b[0m\u001b[0;34m=\u001b[0m\u001b[0;34m'C3H8'\u001b[0m\u001b[0;34m,\u001b[0m \u001b[0mlw\u001b[0m\u001b[0;34m=\u001b[0m\u001b[0;36m2\u001b[0m\u001b[0;34m)\u001b[0m\u001b[0;34m\u001b[0m\u001b[0;34m\u001b[0m\u001b[0m\n\u001b[0m\u001b[1;32m      6\u001b[0m \u001b[0mplt\u001b[0m\u001b[0;34m.\u001b[0m\u001b[0mplot\u001b[0m\u001b[0;34m(\u001b[0m\u001b[0mphi\u001b[0m\u001b[0;34m,\u001b[0m \u001b[0mTC4H10\u001b[0m\u001b[0;34m,\u001b[0m \u001b[0mlabel\u001b[0m\u001b[0;34m=\u001b[0m\u001b[0;34m'C4H10'\u001b[0m\u001b[0;34m,\u001b[0m \u001b[0mlw\u001b[0m\u001b[0;34m=\u001b[0m\u001b[0;36m2\u001b[0m\u001b[0;34m)\u001b[0m\u001b[0;34m\u001b[0m\u001b[0;34m\u001b[0m\u001b[0m\n\u001b[1;32m      7\u001b[0m \u001b[0mplt\u001b[0m\u001b[0;34m.\u001b[0m\u001b[0mgrid\u001b[0m\u001b[0;34m(\u001b[0m\u001b[0;32mTrue\u001b[0m\u001b[0;34m)\u001b[0m\u001b[0;34m\u001b[0m\u001b[0;34m\u001b[0m\u001b[0m\n",
      "\u001b[0;31mNameError\u001b[0m: name 'TC3H8' is not defined"
     ]
    },
    {
     "data": {
      "image/png": "[encoded data removed]",
      "text/plain": [
       "<Figure size 432x288 with 1 Axes>"
      ]
     },
     "metadata": {
      "needs_background": "light"
     },
     "output_type": "display_data"
    }
   ],
   "source": [
    "plt.plot(phi, TCH4, label='CH4', lw=2)\n",
    "plt.plot(phi, TH2, label='H2', lw=2)\n",
    "plt.plot(phi, TC2H6, label='C2H6', lw=2)\n",
    "plt.plot(phi, TC2H4, label='C2H4', lw=2)\n",
    "plt.plot(phi, TC3H8, label='C3H8', lw=2)\n",
    "plt.plot(phi, TC4H10, label='C4H10', lw=2)\n",
    "plt.grid(True)\n",
    "plt.legend()\n",
    "plt.xlabel('Equivalence ratio, $\\phi$')\n",
    "plt.ylabel('Temperature [K]');\n",
    "plt.show()"
   ]
  },
  {
   "cell_type": "code",
   "execution_count": null,
   "metadata": {},
   "outputs": [],
   "source": [
    "gas2 = ct.Solution('gri30.cti')\n",
    "phi = np.linspace(0.5, 2.0, 100)\n",
    "TCH4 = np.zeros(phi.shape)\n",
    "for i in range(len(phi)):\n",
    "    gas2.TP = 300, ct.one_atm\n",
    "    gas2.set_equivalence_ratio(phi[i], 'CH4', 'O2:1')\n",
    "    gas2.equilibrate('HP')\n",
    "    TCH4[i] = gas2.T\n",
    "    \n",
    "TH2 = np.zeros(phi.shape)\n",
    "for i in range(len(phi)):\n",
    "    gas2.TP = 300, ct.one_atm\n",
    "    gas2.set_equivalence_ratio(phi[i], 'H2', 'O2:1')\n",
    "    gas2.equilibrate('HP')\n",
    "    TH2[i] = gas2.T\n",
    "    \n",
    "TC2H6 = np.zeros(phi.shape)\n",
    "for i in range(len(phi)):\n",
    "    gas2.TP = 300, ct.one_atm\n",
    "    gas2.set_equivalence_ratio(phi[i], 'C2H6', 'O2:1')\n",
    "    gas2.equilibrate('HP')\n",
    "    TC2H6[i] = gas2.T\n",
    "\n",
    "TC2H4 = np.zeros(phi.shape)\n",
    "for i in range(len(phi)):\n",
    "    gas2.TP = 300, ct.one_atm\n",
    "    gas2.set_equivalence_ratio(phi[i], 'C2H4', 'O2:1')\n",
    "    gas2.equilibrate('HP')\n",
    "    TC2H4[i] = gas2.T\n",
    "\n",
    "TC3H8 = np.zeros(phi.shape)\n",
    "for i in range(len(phi)):\n",
    "    gas2.TP = 300, ct.one_atm\n",
    "    gas2.set_equivalence_ratio(phi[i], 'C3H8', 'O2:1')\n",
    "    gas2.equilibrate('HP')\n",
    "    TC3H8[i] = gas2.T\n",
    "    \n",
    "gas2 = ct.Solution('Nheptane.cti')\n",
    "TC4H10 = np.zeros(phi.shape)\n",
    "for i in range(len(phi)):\n",
    "    gas2.TP = 300, ct.one_atm\n",
    "    gas2.set_equivalence_ratio(phi[i], 'C4H10', 'O2:1')\n",
    "    gas2.equilibrate('HP')\n",
    "    TC4H10[i] = gas2.T"
   ]
  },
  {
   "cell_type": "code",
   "execution_count": null,
   "metadata": {},
   "outputs": [],
   "source": [
    "plt.plot(phi, TCH4, label='CH4', lw=2)\n",
    "plt.plot(phi, TH2, label='H2', lw=2)\n",
    "plt.plot(phi, TC2H6, label='C2H6', lw=2)\n",
    "plt.plot(phi, TC2H4, label='C2H4', lw=2)\n",
    "plt.plot(phi, TC3H8, label='C3H8', lw=2)\n",
    "plt.plot(phi, TC4H10, label='C4H10', lw=2)\n",
    "plt.grid(True)\n",
    "plt.legend()\n",
    "plt.xlabel('Equivalence ratio, $\\phi$')\n",
    "plt.ylabel('Temperature [K]');\n",
    "plt.show()"
   ]
  },
  {
   "cell_type": "code",
   "execution_count": null,
   "metadata": {},
   "outputs": [],
   "source": []
  }
 ],
 "metadata": {
  "kernelspec": {
   "display_name": "Python 3",
   "language": "python",
   "name": "python3"
  },
  "language_info": {
   "codemirror_mode": {
    "name": "ipython",
    "version": 3
   },
   "file_extension": ".py",
   "mimetype": "text/x-python",
   "name": "python",
   "nbconvert_exporter": "python",
   "pygments_lexer": "ipython3",
   "version": "3.7.9"
  }
 },
 "nbformat": 4,
 "nbformat_minor": 1
}
