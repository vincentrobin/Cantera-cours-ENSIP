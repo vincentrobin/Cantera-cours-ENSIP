{
 "cells": [
  {
   "cell_type": "markdown",
   "metadata": {},
   "source": [
    "# Flame Temperature\n",
    "\n",
    "This example demonstrates calculation of the adiabatic flame temperature for a methane/air mixture."
   ]
  },
  {
   "cell_type": "code",
   "execution_count": null,
   "metadata": {},
   "outputs": [],
   "source": [
    "#%matplotlib notebook\n",
    "#%matplotlib auto\n",
    "import cantera as ct\n",
    "import numpy as np\n",
    "import matplotlib.pyplot as plt"
   ]
  },
  {
   "cell_type": "code",
   "execution_count": null,
   "metadata": {},
   "outputs": [],
   "source": [
    "gas2 = ct.Solution('gri30.yaml')\n",
    "phi = np.linspace(0.5, 2.0, 100)\n",
    "TCH4 = np.zeros(phi.shape)\n",
    "for i in range(len(phi)):\n",
    "    gas2.TP = 300, ct.one_atm\n",
    "    gas2.set_equivalence_ratio(phi[i], 'CH4', 'O2:1, N2:3.76')\n",
    "    gas2.equilibrate('HP')\n",
    "    TCH4[i] = gas2.T\n",
    "    \n",
    "TH2 = np.zeros(phi.shape)\n",
    "for i in range(len(phi)):\n",
    "    gas2.TP = 300, ct.one_atm\n",
    "    gas2.set_equivalence_ratio(phi[i], 'H2', 'O2:1, N2:3.76')\n",
    "    gas2.equilibrate('HP')\n",
    "    TH2[i] = gas2.T\n",
    "    \n",
    "TC2H6 = np.zeros(phi.shape)\n",
    "for i in range(len(phi)):\n",
    "    gas2.TP = 300, ct.one_atm\n",
    "    gas2.set_equivalence_ratio(phi[i], 'C2H6', 'O2:1, N2:3.76')\n",
    "    gas2.equilibrate('HP')\n",
    "    TC2H6[i] = gas2.T\n",
    "\n",
    "TC2H4 = np.zeros(phi.shape)\n",
    "for i in range(len(phi)):\n",
    "    gas2.TP = 300, ct.one_atm\n",
    "    gas2.set_equivalence_ratio(phi[i], 'C2H4', 'O2:1, N2:3.76')\n",
    "    gas2.equilibrate('HP')\n",
    "    TC2H4[i] = gas2.T"
   ]
  },
  {
   "cell_type": "code",
   "execution_count": null,
   "metadata": {},
   "outputs": [],
   "source": [
    "plt.plot(phi, TCH4, label='CH4', lw=2)\n",
    "plt.plot(phi, TH2, label='H2', lw=2)\n",
    "plt.plot(phi, TC2H6, label='C2H6', lw=2)\n",
    "plt.plot(phi, TC2H4, label='C2H4', lw=2)\n",
    "plt.grid(True)\n",
    "plt.legend()\n",
    "plt.xlabel('Equivalence ratio, $\\phi$')\n",
    "plt.ylabel('Temperature [K]');\n",
    "plt.show()"
   ]
  },
  {
   "cell_type": "code",
   "execution_count": null,
   "metadata": {},
   "outputs": [],
   "source": [
    "gas2 = ct.Solution('gri30.yaml')\n",
    "phi = np.linspace(0.5, 2.0, 100)\n",
    "TCH4 = np.zeros(phi.shape)\n",
    "for i in range(len(phi)):\n",
    "    gas2.TP = 300, ct.one_atm\n",
    "    gas2.set_equivalence_ratio(phi[i], 'CH4', 'O2:1')\n",
    "    gas2.equilibrate('HP')\n",
    "    TCH4[i] = gas2.T\n",
    "    \n",
    "TH2 = np.zeros(phi.shape)\n",
    "for i in range(len(phi)):\n",
    "    gas2.TP = 300, ct.one_atm\n",
    "    gas2.set_equivalence_ratio(phi[i], 'H2', 'O2:1')\n",
    "    gas2.equilibrate('HP')\n",
    "    TH2[i] = gas2.T\n",
    "    \n",
    "TC2H6 = np.zeros(phi.shape)\n",
    "for i in range(len(phi)):\n",
    "    gas2.TP = 300, ct.one_atm\n",
    "    gas2.set_equivalence_ratio(phi[i], 'C2H6', 'O2:1')\n",
    "    gas2.equilibrate('HP')\n",
    "    TC2H6[i] = gas2.T\n",
    "\n",
    "TC2H4 = np.zeros(phi.shape)\n",
    "for i in range(len(phi)):\n",
    "    gas2.TP = 300, ct.one_atm\n",
    "    gas2.set_equivalence_ratio(phi[i], 'C2H4', 'O2:1')\n",
    "    gas2.equilibrate('HP')\n",
    "    TC2H4[i] = gas2.T\n",
    "\n",
    "TC3H8 = np.zeros(phi.shape)\n",
    "for i in range(len(phi)):\n",
    "    gas2.TP = 300, ct.one_atm\n",
    "    gas2.set_equivalence_ratio(phi[i], 'C3H8', 'O2:1')\n",
    "    gas2.equilibrate('HP')\n",
    "    TC3H8[i] = gas2.T"
   ]
  },
  {
   "cell_type": "code",
   "execution_count": null,
   "metadata": {},
   "outputs": [],
   "source": [
    "plt.plot(phi, TCH4, label='CH4', lw=2)\n",
    "plt.plot(phi, TH2, label='H2', lw=2)\n",
    "plt.plot(phi, TC2H6, label='C2H6', lw=2)\n",
    "plt.plot(phi, TC2H4, label='C2H4', lw=2)\n",
    "plt.plot(phi, TC3H8, label='C3H8', lw=2)\n",
    "plt.grid(True)\n",
    "plt.legend()\n",
    "plt.xlabel('Equivalence ratio, $\\phi$')\n",
    "plt.ylabel('Temperature [K]');\n",
    "plt.show()"
   ]
  },
  {
   "cell_type": "code",
   "execution_count": null,
   "metadata": {},
   "outputs": [],
   "source": []
  }
 ],
 "metadata": {
  "kernelspec": {
   "display_name": "Python 3 (ipykernel)",
   "language": "python",
   "name": "python3"
  },
  "language_info": {
   "codemirror_mode": {
    "name": "ipython",
    "version": 3
   },
   "file_extension": ".py",
   "mimetype": "text/x-python",
   "name": "python",
   "nbconvert_exporter": "python",
   "pygments_lexer": "ipython3",
   "version": "3.8.18"
  }
 },
 "nbformat": 4,
 "nbformat_minor": 4
}
